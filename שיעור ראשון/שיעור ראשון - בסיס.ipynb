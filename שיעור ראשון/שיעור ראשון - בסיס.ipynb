{
 "cells": [
  {
   "cell_type": "markdown",
   "id": "668af92f-ce9c-41ae-b577-c95a1f6309ac",
   "metadata": {},
   "source": [
    "<div dir='rtl' lang='he'>\n",
    "<h1 align=\"center\">ברוכים הבאים לחוג תכנות</h1>\n",
    "\n"
   ]
  },
  {
   "cell_type": "markdown",
   "id": "b4ff695e-f086-4ce3-b14f-cc5e220ce39f",
   "metadata": {},
   "source": [
    "<div dir='rtl' lang='he'>\n",
    "<h2>משתנים</h2>\n",
    "<h4>סוגי משתנים</h4>\n",
    "- מספרים שלמים </br> \n",
    "- מספרים עשרוניים </br> \n",
    "- אמת או שקר </br>\n",
    "- מחרוזת (טקסט)"
   ]
  },
  {
   "cell_type": "code",
   "execution_count": 6,
   "id": "e2175bc4-12fd-44f6-a7df-3dca9fd2986f",
   "metadata": {},
   "outputs": [
    {
     "name": "stdout",
     "output_type": "stream",
     "text": [
      "x = 3\n",
      "y = 3.0\n"
     ]
    }
   ],
   "source": [
    "x = 3      # מספר שלם\n",
    "y = 3.0    # מספר עשרוני\n",
    "print(f'x = {x}')\n",
    "print(f'y = {y}')"
   ]
  },
  {
   "cell_type": "code",
   "execution_count": 7,
   "id": "2e74441e-c240-4472-b539-9cb1feb4cc71",
   "metadata": {},
   "outputs": [
    {
     "name": "stdout",
     "output_type": "stream",
     "text": [
      "T = True\n",
      "F = False\n"
     ]
    }
   ],
   "source": [
    "T = True\n",
    "F = False\n",
    "print(f'T = {T}')\n",
    "print(f'F = {F}')"
   ]
  },
  {
   "cell_type": "code",
   "execution_count": 8,
   "id": "eed882af-b8ec-40fd-9678-17c95cdb2338",
   "metadata": {},
   "outputs": [
    {
     "name": "stdout",
     "output_type": "stream",
     "text": [
      "this is text\n"
     ]
    }
   ],
   "source": [
    "text = \"this is text\"\n",
    "print(text)"
   ]
  },
  {
   "cell_type": "markdown",
   "id": "1051c2d6-042e-4d0e-9552-af185fd3f452",
   "metadata": {},
   "source": [
    "<div dir='rtl' lang='he'>\n",
    "<h2>אופרטורים</h2>\n",
    "1. חיבור  \n",
    "2. חיסור  \n",
    "3. כפל  \n",
    "4. חילוק  "
   ]
  },
  {
   "cell_type": "code",
   "execution_count": 14,
   "id": "44ce148f-cc9b-4f32-bd82-8dda2d9d430f",
   "metadata": {},
   "outputs": [
    {
     "name": "stdout",
     "output_type": "stream",
     "text": [
      "x+y=3\n",
      "x-y=-1\n",
      "x*y=2\n",
      "x/y=0.5\n",
      "x^y=1\n",
      "x%y=1\n"
     ]
    }
   ],
   "source": [
    "x = 1\n",
    "y = 2\n",
    "print(f'x+y={x+y}') # חיבור\n",
    "print(f'x-y={x-y}') # חיסור\n",
    "print(f'x*y={x*y}') # כפל\n",
    "print(f'x/y={x/y}') # חילוק\n",
    "print(f'x^y={x**y}') # חזקה\n",
    "print(f'x%y={x%y}') # שארית"
   ]
  },
  {
   "cell_type": "code",
   "execution_count": 10,
   "id": "ef7171a5-49a3-436c-a65e-19ad70cddd09",
   "metadata": {},
   "outputs": [
    {
     "name": "stdout",
     "output_type": "stream",
     "text": [
      "Welcome to AskPython Quiz\n"
     ]
    },
    {
     "name": "stdin",
     "output_type": "stream",
     "text": [
      "Are you ready to play the Quiz ? (yes/no) : yes\n",
      "Question 1: What is your Favourite programming language? python\n"
     ]
    },
    {
     "name": "stdout",
     "output_type": "stream",
     "text": [
      "correct\n"
     ]
    },
    {
     "name": "stdin",
     "output_type": "stream",
     "text": [
      "Question 2: Do you follow any author on AskPython?  yes\n"
     ]
    },
    {
     "name": "stdout",
     "output_type": "stream",
     "text": [
      "correct\n"
     ]
    },
    {
     "name": "stdin",
     "output_type": "stream",
     "text": [
      "Question 3: What is the name of your favourite website for learning Python? AskPython\n"
     ]
    },
    {
     "name": "stdout",
     "output_type": "stream",
     "text": [
      "correct\n",
      "Thankyou for Playing this small quiz game, you attempted 3 questions correctly!\n",
      "Marks obtained: 100.0\n",
      "BYE!\n"
     ]
    }
   ],
   "source": [
    "print('Welcome to AskPython Quiz')\n",
    "answer=input('Are you ready to play the Quiz ? (yes/no) :')\n",
    "score=0\n",
    "total_questions=3\n",
    "\n",
    "if answer.lower()=='yes':\n",
    "    answer=input('Question 1: What is your Favourite programming language?')\n",
    "    if answer.lower()=='python':\n",
    "        score += 1\n",
    "        print('correct')\n",
    "    else:\n",
    "        print('Wrong Answer :(')\n",
    "\n",
    "\n",
    "    answer=input('Question 2: Do you follow any author on AskPython? ')\n",
    "    if answer.lower()=='yes':\n",
    "        score += 1\n",
    "        print('correct')\n",
    "    else:\n",
    "        print('Wrong Answer :(')\n",
    "\n",
    "    answer=input('Question 3: What is the name of your favourite website for learning Python?')\n",
    "    if answer.lower()=='askpython':\n",
    "        score += 1\n",
    "        print('correct')\n",
    "    else:\n",
    "        print('Wrong Answer :(')\n",
    "\n",
    "print('Thankyou for Playing this small quiz game, you attempted',score,\"questions correctly!\")\n",
    "mark=(score/total_questions)*100\n",
    "print('Marks obtained:',mark)\n",
    "print('BYE!')"
   ]
  },
  {
   "cell_type": "code",
   "execution_count": null,
   "id": "a3f92913-fce3-4719-89fc-d2fab2279142",
   "metadata": {},
   "outputs": [],
   "source": []
  }
 ],
 "metadata": {
  "kernelspec": {
   "display_name": "Python 3 (ipykernel)",
   "language": "python",
   "name": "python3"
  },
  "language_info": {
   "codemirror_mode": {
    "name": "ipython",
    "version": 3
   },
   "file_extension": ".py",
   "mimetype": "text/x-python",
   "name": "python",
   "nbconvert_exporter": "python",
   "pygments_lexer": "ipython3",
   "version": "3.7.9"
  }
 },
 "nbformat": 4,
 "nbformat_minor": 5
}
