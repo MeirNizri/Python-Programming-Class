{
 "cells": [
  {
   "cell_type": "markdown",
   "id": "668af92f-ce9c-41ae-b577-c95a1f6309ac",
   "metadata": {},
   "source": [
    "<div dir='rtl' lang='he'>\n",
    "<h1 align=\"center\">ברוכים הבאים לחוג תכנות</h1>\n",
    "\n"
   ]
  },
  {
   "cell_type": "markdown",
   "id": "b4ff695e-f086-4ce3-b14f-cc5e220ce39f",
   "metadata": {},
   "source": [
    "<div dir='rtl' lang='he'>\n",
    "<h2>משתנים</h2>\n",
    "<h4>סוגי משתנים</h4>\n",
    "- מספרים שלמים </br> \n",
    "- מספרים עשרוניים </br> \n",
    "- אמת או שקר </br>\n",
    "- מחרוזת (טקסט)"
   ]
  },
  {
   "cell_type": "code",
   "execution_count": 6,
   "id": "e2175bc4-12fd-44f6-a7df-3dca9fd2986f",
   "metadata": {},
   "outputs": [],
   "source": [
    "x = 3      # מספר שלם\n",
    "\n",
    "\n",
    "y = 3.0    # מספר עשרוני\n",
    "\n",
    "text = \"this is text\"  # מחרוזת - טקסט\n",
    "\n",
    "T = True   # משתנה בוליאני - אמת\n",
    "\n",
    "F = False  # משתנה בוליאני - שקר \n"
   ]
  },
  {
   "cell_type": "markdown",
   "id": "29e6fd19",
   "metadata": {},
   "source": [
    "הדפסה קלאסית"
   ]
  },
  {
   "cell_type": "code",
   "execution_count": 8,
   "id": "2e74441e-c240-4472-b539-9cb1feb4cc71",
   "metadata": {},
   "outputs": [
    {
     "name": "stdout",
     "output_type": "stream",
     "text": [
      "4\n",
      "3.5\n",
      "banana\n",
      "True\n",
      "False\n"
     ]
    }
   ],
   "source": [
    "x = 4\n",
    "print(x)\n",
    "\n",
    "y = 3.5\n",
    "print(y)\n",
    "\n",
    "text = \"banana\"\n",
    "print(text)\n",
    "\n",
    "T = True\n",
    "print(T)\n",
    "\n",
    "F = False\n",
    "print(F)"
   ]
  },
  {
   "cell_type": "markdown",
   "id": "e332e22e",
   "metadata": {},
   "source": [
    "הדפסה של מחרוזת"
   ]
  },
  {
   "cell_type": "code",
   "execution_count": 2,
   "id": "0bac63fe",
   "metadata": {},
   "outputs": [
    {
     "name": "stdout",
     "output_type": "stream",
     "text": [
      "hello world!\n"
     ]
    }
   ],
   "source": [
    "\n",
    "print(\"hello world!\")\n"
   ]
  },
  {
   "cell_type": "markdown",
   "id": "60e08d66",
   "metadata": {},
   "source": [
    "הדפסת משתנה בתוך מחרוזת"
   ]
  },
  {
   "cell_type": "code",
   "execution_count": 4,
   "id": "eed882af-b8ec-40fd-9678-17c95cdb2338",
   "metadata": {},
   "outputs": [
    {
     "name": "stdout",
     "output_type": "stream",
     "text": [
      "T = True\n",
      "F = False\n"
     ]
    }
   ],
   "source": [
    "\n",
    "print(f'T = {True}') \n",
    "print(f'F = {False}')"
   ]
  },
  {
   "cell_type": "markdown",
   "id": "fed8eb03",
   "metadata": {},
   "source": [
    "הדפסה של כמה אובייקטים"
   ]
  },
  {
   "cell_type": "code",
   "execution_count": 7,
   "id": "a8c3ecad",
   "metadata": {},
   "outputs": [
    {
     "name": "stdout",
     "output_type": "stream",
     "text": [
      "My name is amit , i am 24 years old. Do I love animals? True\n"
     ]
    }
   ],
   "source": [
    "\n",
    "name = \"amit\"\n",
    "age = 24\n",
    "loveAnimals = True\n",
    "\n",
    "\n",
    "print(f'My name is {name} , I am {age} years old. Do I love animals? {loveAnimals}')"
   ]
  },
  {
   "cell_type": "markdown",
   "id": "9939a1fb",
   "metadata": {},
   "source": [
    "עכשיו תורכם"
   ]
  },
  {
   "cell_type": "code",
   "execution_count": null,
   "id": "0b9c04d9",
   "metadata": {},
   "outputs": [],
   "source": [
    "# name = \n",
    "# age = \n",
    "# loveAnimals = \n",
    "\n",
    "\n",
    "# print(f'My name is {name} , I am {age} years old. Do I love animals? {loveAnimals}')"
   ]
  },
  {
   "cell_type": "code",
   "execution_count": null,
   "id": "44ce148f-cc9b-4f32-bd82-8dda2d9d430f",
   "metadata": {},
   "outputs": [],
   "source": [
    "x = 1\n",
    "y = 2\n",
    "print(f'x+y={x+y}') # חיבור\n",
    "print(f'x-y={x-y}') # חיסור\n",
    "print(f'x*y={x*y}') # כפל\n",
    "print(f'x/y={x/y}') # חילוק\n",
    "print(f'x^y={x**y}') # חזקה\n",
    "print(f'x%y={x%y}') # שארית"
   ]
  },
  {
   "cell_type": "code",
   "execution_count": null,
   "id": "ef7171a5-49a3-436c-a65e-19ad70cddd09",
   "metadata": {},
   "outputs": [
    {
     "name": "stdout",
     "output_type": "stream",
     "text": [
      "Welcome to AskPython Quiz\n"
     ]
    }
   ],
   "source": [
    "print('Welcome to AskPython Quiz')\n",
    "answer=input('Are you ready to play the Quiz ? (yes/no) :')\n",
    "score=0\n",
    "total_questions=3\n",
    "\n",
    "if answer.lower()=='yes':\n",
    "    answer=input('Question 1: What is your Favourite programming language?')\n",
    "    if answer.lower()=='python':\n",
    "        score += 1\n",
    "        print('correct')\n",
    "    else:\n",
    "        print('Wrong Answer :(')\n",
    "\n",
    "\n",
    "    answer=input('Question 2: Do you follow any author on AskPython? ')\n",
    "    if answer.lower()=='yes':\n",
    "        score += 1\n",
    "        print('correct')\n",
    "    else:\n",
    "        print('Wrong Answer :(')\n",
    "\n",
    "    answer=input('Question 3: What is the name of your favourite website for learning Python?')\n",
    "    if answer.lower()=='askpython':\n",
    "        score += 1\n",
    "        print('correct')\n",
    "    else:\n",
    "        print('Wrong Answer :(')\n",
    "\n",
    "print('Thankyou for Playing this small quiz game, you attempted',score,\"questions correctly!\")\n",
    "mark=(score/total_questions)*100\n",
    "print('Marks obtained:',mark)\n",
    "print('BYE!')"
   ]
  },
  {
   "cell_type": "code",
   "execution_count": null,
   "id": "a3f92913-fce3-4719-89fc-d2fab2279142",
   "metadata": {},
   "outputs": [],
   "source": []
  }
 ],
 "metadata": {
  "kernelspec": {
   "display_name": "Python 3.11.0 64-bit",
   "language": "python",
   "name": "python3"
  },
  "language_info": {
   "codemirror_mode": {
    "name": "ipython",
    "version": 3
   },
   "file_extension": ".py",
   "mimetype": "text/x-python",
   "name": "python",
   "nbconvert_exporter": "python",
   "pygments_lexer": "ipython3",
   "version": "3.11.0"
  },
  "vscode": {
   "interpreter": {
    "hash": "544c7e72ceabb8b5baf00146d00b7c3a5bfd60d2cf41bb549c5c035fb33480da"
   }
  }
 },
 "nbformat": 4,
 "nbformat_minor": 5
}
